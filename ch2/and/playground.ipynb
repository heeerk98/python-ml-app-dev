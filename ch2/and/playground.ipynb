{
 "cells": [
  {
   "cell_type": "code",
   "execution_count": 1,
   "metadata": {},
   "outputs": [
    {
     "name": "stdout",
     "output_type": "stream",
     "text": [
      "[[0, 1]] 의 예측 결과:  [0]\n"
     ]
    }
   ],
   "source": [
    "# 라이브러리 읽어 들이기 --- (*1)\n",
    "from sklearn.svm import LinearSVC\n",
    "\n",
    "# 학습 전용 데이터와 결과 준비하기 --- (*2)\n",
    "# X , Y\n",
    "learn_data = [[0,0],  [1,0], [0,1], [1,1]]\n",
    "# X and Y\n",
    "learn_label = [0,0,0,1]\n",
    "\n",
    "# 알고리즘 지정하기(LinierSVC) --- (*3)\n",
    "clf = LinearSVC()\n",
    "\n",
    "# 학습전용데이터와결과학습하기  --- (*4)\n",
    "clf.fit(learn_data, learn_label)\n",
    "\n",
    "# 데이터 예측하기 --- (*5)\n",
    "data = [[0,1]]\n",
    "print(data , \"의 예측 결과: \" ,  clf.predict(data))"
   ]
  },
  {
   "cell_type": "code",
   "execution_count": 2,
   "metadata": {},
   "outputs": [
    {
     "data": {
      "text/plain": [
       "array([1])"
      ]
     },
     "execution_count": 2,
     "metadata": {},
     "output_type": "execute_result"
    }
   ],
   "source": [
    "data=[[1,1]]\n",
    "clf.predict(data)\n"
   ]
  }
 ],
 "metadata": {
  "kernelspec": {
   "display_name": "Python 3",
   "language": "python",
   "name": "python3"
  },
  "language_info": {
   "codemirror_mode": {
    "name": "ipython",
    "version": 3
   },
   "file_extension": ".py",
   "mimetype": "text/x-python",
   "name": "python",
   "nbconvert_exporter": "python",
   "pygments_lexer": "ipython3",
   "version": "3.6.1"
  }
 },
 "nbformat": 4,
 "nbformat_minor": 2
}
